{
 "cells": [
  {
   "cell_type": "code",
   "execution_count": null,
   "metadata": {},
   "outputs": [],
   "source": [
    "def get_sparse_tensor(e, KG):\n",
    "    print('getting a sparse tensor...')\n",
    "    M0, du = get_vmat(e, KG)\n",
    "\n",
    "    # New Addition here    # Abductive Reasoning\n",
    "    G = nx.Graph()\n",
    "    G.add_edges_from(M0)\n",
    "    #nx.number_of_nodes(G), nx.number_of_edges(G)\n",
    "\n",
    "    #split list of highest cent nodes into all possible subsets size 2\n",
    "    HCNchoose2 = list(itertools.combinations(getHighestCentralityNodes(G), 2))\n",
    "\n",
    "    #Similiarity Calculation\n",
    "    preds = nx.jaccard_coefficient(G, HCNchoose2)\n",
    "\n",
    "    M2 = {}\n",
    "    for u, v, p in preds:\n",
    "        if (u, v) not in M2 and float(f\" {p:.8f}\")>0:\n",
    "            M2[(u, v)] = float(f\" {p:.8f}\")    #Predicted relationship semantics. \"M2\" are added to \"M0\"\n",
    "    M0 = {**M0, **M2}                 \n",
    "    # New AdditionEnd here\n",
    "\n",
    "    ind = []\n",
    "    val = []\n",
    "    \n",
    "    M0Pind = []\n",
    "    M0Pval = []\n",
    "    \n",
    "    M0_list = list(M0.keys()) # convert \"M0\" \"dict\" to \"list\"\n",
    "    s_column = [item[1] for item in M0_list]\n",
    "\n",
    "    for fir, sec in M0: #Check each relation triple / complex relationship explanation in dict\n",
    "#Partial Explanations\n",
    "        if fir in s_column:\n",
    "            M0Pind.append((sec, fir))\n",
    "            M0Pval.append(M0[(fir, sec)] / math.sqrt(du[fir]) / math.sqrt(du[sec]))   #value od \"d\" 1/xyz\n",
    "            \n",
    "#Complete Explanations\n",
    "        if fir in s_column or fir not in s_column:\n",
    "            ind.append((sec, fir))        #Indices / Location\n",
    "            val.append(M0[(fir, sec)] / math.sqrt(du[fir]) / math.sqrt(du[sec]))   #value od \"d\" 1/xyz\n",
    "\n",
    "    M = tf.SparseTensor(indices=ind, values=val, dense_shape=[e, e])\n",
    "\n",
    "    return M0, M"
   ]
  }
 ],
 "metadata": {
  "kernelspec": {
   "display_name": "Python 3",
   "language": "python",
   "name": "python3"
  },
  "language_info": {
   "codemirror_mode": {
    "name": "ipython",
    "version": 3
   },
   "file_extension": ".py",
   "mimetype": "text/x-python",
   "name": "python",
   "nbconvert_exporter": "python",
   "pygments_lexer": "ipython3",
   "version": "3.7.6"
  }
 },
 "nbformat": 4,
 "nbformat_minor": 4
}
